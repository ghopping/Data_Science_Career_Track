{
 "cells": [
  {
   "cell_type": "markdown",
   "metadata": {},
   "source": [
    "# Inferential Statistics III - Bayesian"
   ]
  },
  {
   "cell_type": "markdown",
   "metadata": {},
   "source": [
    "## Introduction"
   ]
  },
  {
   "cell_type": "markdown",
   "metadata": {},
   "source": [
    "In the last two subunits, you've encountered two schools for performing inference from samples. The Frequentist school calls upon a body of theory established over the past couple of centuries or so. Under certain assumptions and conditions, this allows us to calculate what we would expect to see if an experiment were to be repeated again and again and again. The expected value of the average of a sample is one such statistic we can calculate a result for, even if the originating distribution is far from normal. The bootstrap school, on the other hand, literally does (virtually) run that experiment again and again and again and empirically observes the multitude of outcomes. It then empirically calculates a statistic of interest. While this can be for exactly the same statistics that frequentism calculates (e.g. the mean of a sample) this empirical approach can also perform inference on statistics that do not have well known sampling distributions. Because of the requirement to repeat many, many redraws (with replacement) from the sample, this approach only became feasible with modern computing power.\n",
    "\n",
    "And thus we come to the Bayesian school of inference. Here we frame our probabilities not so much in terms of \"how many times would I expect this event to occur if the experiment were to be rerun many times\" but rather in terms of \"what is my belief in the likelihood of this event occurring?\" In a Bayesian probabilistic programming context, we can build models for systems and then let the data tell us how likely certain values for our model parameters are. This can be a very useful way to incorporate prior knowledge and deal with limited data. It can just be more than a _little_ fiddly to produce a good model!"
   ]
  },
  {
   "cell_type": "markdown",
   "metadata": {},
   "source": [
    "## Medical charge data set"
   ]
  },
  {
   "cell_type": "markdown",
   "metadata": {},
   "source": [
    "For the final mini-project of the stats unit, you'll once again return tot he medical charge data you've used for the other mini-projects. Previously, we considered whether we believed that the actual average(non-insured) charge had fallen below a certain threshold.\n",
    "\n",
    "The hospital is now reviewing its financial resiliency plan, which requires a model for revenue under a range of conditions that include the number of patients treated. Its current model is based on a confidence interval for the mean, and scaling that by different numbers of patients for each scenario. This approach has a number of limitations, most acutely the breakdown of the central limit theorem for low patient volumes; the current model does not do a good job of reflecting the variability in revenue you would see as the number of cases drops. A bootstrap approach would return samples of the same size as the original. Taking subsamples would restrict the sampling to the values already present in the original sample and would not do a good job of representing the actual variability you might see. What is needed is a better model of individual charges.\n",
    "\n",
    "So the problem here is that we want to model the distribution of individual charges and _we also really want to be able to capture our uncertainty about that distribution_ so we can better capture the range of values we might see. This naturally leads us to a powerful, probabilistic approach — we'll use the pymc3 library to perform Bayesian inference."
   ]
  },
  {
   "cell_type": "markdown",
   "metadata": {},
   "source": [
    "### Loading the data and performing an initial view"
   ]
  },
  {
   "cell_type": "code",
   "execution_count": 41,
   "metadata": {},
   "outputs": [],
   "source": [
    "import pymc3 as pm\n",
    "import pandas as pd\n",
    "import numpy as np\n",
    "from numpy.random import seed\n",
    "import matplotlib.pyplot as plt\n",
    "from scipy.stats import gamma\n",
    "%matplotlib inline\n",
    "# there has been some incompatibilty between theano and numpy, if you encounter\n",
    "# an error with the latest packages from anaconda, then the included\n",
    "#package-list-txt should allow you to create a conda environment with compatible\n",
    "# packages."
   ]
  },
  {
   "cell_type": "code",
   "execution_count": null,
   "metadata": {},
   "outputs": [],
   "source": []
  },
  {
   "cell_type": "code",
   "execution_count": 42,
   "metadata": {},
   "outputs": [],
   "source": [
    "medical = pd.read_csv('data/insurance2.csv')"
   ]
  },
  {
   "cell_type": "code",
   "execution_count": 43,
   "metadata": {},
   "outputs": [
    {
     "data": {
      "text/html": [
       "<div>\n",
       "<style scoped>\n",
       "    .dataframe tbody tr th:only-of-type {\n",
       "        vertical-align: middle;\n",
       "    }\n",
       "\n",
       "    .dataframe tbody tr th {\n",
       "        vertical-align: top;\n",
       "    }\n",
       "\n",
       "    .dataframe thead th {\n",
       "        text-align: right;\n",
       "    }\n",
       "</style>\n",
       "<table border=\"1\" class=\"dataframe\">\n",
       "  <thead>\n",
       "    <tr style=\"text-align: right;\">\n",
       "      <th></th>\n",
       "      <th>age</th>\n",
       "      <th>sex</th>\n",
       "      <th>bmi</th>\n",
       "      <th>children</th>\n",
       "      <th>smoker</th>\n",
       "      <th>region</th>\n",
       "      <th>charges</th>\n",
       "      <th>insuranceclaim</th>\n",
       "    </tr>\n",
       "  </thead>\n",
       "  <tbody>\n",
       "    <tr>\n",
       "      <th>0</th>\n",
       "      <td>19</td>\n",
       "      <td>0</td>\n",
       "      <td>27.900</td>\n",
       "      <td>0</td>\n",
       "      <td>1</td>\n",
       "      <td>3</td>\n",
       "      <td>16884.92400</td>\n",
       "      <td>1</td>\n",
       "    </tr>\n",
       "    <tr>\n",
       "      <th>1</th>\n",
       "      <td>18</td>\n",
       "      <td>1</td>\n",
       "      <td>33.770</td>\n",
       "      <td>1</td>\n",
       "      <td>0</td>\n",
       "      <td>2</td>\n",
       "      <td>1725.55230</td>\n",
       "      <td>1</td>\n",
       "    </tr>\n",
       "    <tr>\n",
       "      <th>2</th>\n",
       "      <td>28</td>\n",
       "      <td>1</td>\n",
       "      <td>33.000</td>\n",
       "      <td>3</td>\n",
       "      <td>0</td>\n",
       "      <td>2</td>\n",
       "      <td>4449.46200</td>\n",
       "      <td>0</td>\n",
       "    </tr>\n",
       "    <tr>\n",
       "      <th>3</th>\n",
       "      <td>33</td>\n",
       "      <td>1</td>\n",
       "      <td>22.705</td>\n",
       "      <td>0</td>\n",
       "      <td>0</td>\n",
       "      <td>1</td>\n",
       "      <td>21984.47061</td>\n",
       "      <td>0</td>\n",
       "    </tr>\n",
       "    <tr>\n",
       "      <th>4</th>\n",
       "      <td>32</td>\n",
       "      <td>1</td>\n",
       "      <td>28.880</td>\n",
       "      <td>0</td>\n",
       "      <td>0</td>\n",
       "      <td>1</td>\n",
       "      <td>3866.85520</td>\n",
       "      <td>1</td>\n",
       "    </tr>\n",
       "  </tbody>\n",
       "</table>\n",
       "</div>"
      ],
      "text/plain": [
       "   age  sex     bmi  children  smoker  region      charges  insuranceclaim\n",
       "0   19    0  27.900         0       1       3  16884.92400               1\n",
       "1   18    1  33.770         1       0       2   1725.55230               1\n",
       "2   28    1  33.000         3       0       2   4449.46200               0\n",
       "3   33    1  22.705         0       0       1  21984.47061               0\n",
       "4   32    1  28.880         0       0       1   3866.85520               1"
      ]
     },
     "execution_count": 43,
     "metadata": {},
     "output_type": "execute_result"
    }
   ],
   "source": [
    "medical.head()"
   ]
  },
  {
   "cell_type": "code",
   "execution_count": 44,
   "metadata": {},
   "outputs": [],
   "source": [
    "insurance = medical.charges[medical.insuranceclaim == 1]\n",
    "no_insurance = medical.charges[medical.insuranceclaim == 0]\n",
    "n_ins = len(insurance)\n",
    "n_no_ins = len(no_insurance)"
   ]
  },
  {
   "cell_type": "code",
   "execution_count": 45,
   "metadata": {},
   "outputs": [
    {
     "data": {
      "image/png": "[encoded data removed]",
      "text/plain": [
       "<Figure size 432x288 with 1 Axes>"
      ]
     },
     "metadata": {
      "needs_background": "light"
     },
     "output_type": "display_data"
    }
   ],
   "source": [
    "_ = plt.hist(insurance, bins=30, alpha=0.5, label='insurance claim')\n",
    "_ = plt.hist(no_insurance, bins=30, alpha=0.5, label='not insurance claim')\n",
    "_ = plt.xlabel('Charge amount')\n",
    "_ = plt.ylabel('Frequency')\n",
    "_ = plt.legend()"
   ]
  },
  {
   "cell_type": "markdown",
   "metadata": {},
   "source": [
    "We may suspect from the above that there is some sort of exponential-like distribution at play here. The charges that were not insurance claims seem most like this. The insurance claim charges may possibly be multimodal. The gamma distribution may be applicable and we could test this for the distribution of charges that weren't insurance claims first. Developing our new method for the easiest looking case first is a common and sound approach that can demonstrate a minimum viable solution/product and get, or keep, stakeholders on board."
   ]
  },
  {
   "cell_type": "markdown",
   "metadata": {},
   "source": [
    "### Initial parameter estimation"
   ]
  },
  {
   "cell_type": "markdown",
   "metadata": {},
   "source": [
    "An initial guess for the gamma distribution's $\\alpha$ and $\\beta$ parameters can be made as described [here](https://wiki.analytica.com/index.php?title=Gamma_distribution)."
   ]
  },
  {
   "cell_type": "code",
   "execution_count": 46,
   "metadata": {},
   "outputs": [
    {
     "data": {
      "text/plain": [
       "(1.8759059725250857, 4702.486170152821)"
      ]
     },
     "execution_count": 46,
     "metadata": {},
     "output_type": "execute_result"
    }
   ],
   "source": [
    "alpha_est = np.mean(no_insurance)**2 / np.var(no_insurance)\n",
    "beta_est = np.var(no_insurance) / np.mean(no_insurance)\n",
    "alpha_est, beta_est"
   ]
  },
  {
   "cell_type": "markdown",
   "metadata": {},
   "source": [
    "### Initial simulation"
   ]
  },
  {
   "cell_type": "markdown",
   "metadata": {},
   "source": [
    "Let's draw the same number of random variates from this distribution and compare to our observed data."
   ]
  },
  {
   "cell_type": "code",
   "execution_count": 47,
   "metadata": {},
   "outputs": [],
   "source": [
    "seed(47)\n",
    "no_ins_model_rvs = gamma(alpha_est, scale=beta_est).rvs(n_no_ins)"
   ]
  },
  {
   "cell_type": "code",
   "execution_count": 48,
   "metadata": {},
   "outputs": [
    {
     "data": {
      "image/png": "[encoded data removed]",
      "text/plain": [
       "<Figure size 432x288 with 1 Axes>"
      ]
     },
     "metadata": {
      "needs_background": "light"
     },
     "output_type": "display_data"
    }
   ],
   "source": [
    "_ = plt.hist(no_ins_model_rvs, bins=30, alpha=0.5, label='simulated')\n",
    "_ = plt.hist(no_insurance, bins=30, alpha=0.5, label='observed')\n",
    "_ = plt.xlabel('Charge amount')\n",
    "_ = plt.ylabel('Frequency')\n",
    "_ = plt.legend()"
   ]
  },
  {
   "cell_type": "markdown",
   "metadata": {},
   "source": [
    "Well it doesn't look too bad! We're not a million miles off. But can we do better? We have a plausible form for the distribution of charge amounts and potential values for that distribution's parameters so we can already draw random variates from that distribution to perform simulations. But we don't know if we have a _best_ estimate for the population parameters, and we also only have a single estimate each for $\\alpha$ and $\\beta$; we aren't capturing our uncertainty in their values. Can we take a Bayesian inference approach to estimate the parameters?"
   ]
  },
  {
   "cell_type": "markdown",
   "metadata": {},
   "source": [
    "### Creating a PyMC3 model"
   ]
  },
  {
   "cell_type": "code",
   "execution_count": 49,
   "metadata": {},
   "outputs": [
    {
     "data": {
      "text/plain": [
       "(1.8759059725250857, 0.00021265346963636093)"
      ]
     },
     "execution_count": 49,
     "metadata": {},
     "output_type": "execute_result"
    }
   ],
   "source": [
    "# PyMC3 Gamma seems to use rate = 1/beta\n",
    "rate_est = 1/beta_est\n",
    "# Initial parameter estimates we'll use below\n",
    "alpha_est, rate_est"
   ]
  },
  {
   "cell_type": "markdown",
   "metadata": {},
   "source": [
    "__Q:__ You are now going to create your own PyMC3 model!\n",
    "1. Use an [exponential](https://docs.pymc.io/api/distributions/continuous.html#pymc3.distributions.continuous.Exponential) prior for alpha. Call this stochastic variable `alpha_`.\n",
    "2. Similarly, use an exponential prior for the rate ([$1/\\beta$](https://wiki.analytica.com/index.php?title=Gamma_distribution)) parameter in PyMC3's [Gamma](https://docs.pymc.io/api/distributions/continuous.html#pymc3.distributions.continuous.Gamma). Call this stochastic variable `rate_` (but it will be supplied as `pm.Gamma`'s `beta` parameter). Hint: to set up a prior with an exponential distribution for $x$ where you have an initial estimate for $x$ of $x_0$, use a scale parameter of $1/x_0$.\n",
    "5. Create your Gamma distribution with your `alpha_` and `rate_` stochastic variables and the observed data.\n",
    "6. Perform 10000 draws."
   ]
  },
  {
   "cell_type": "markdown",
   "metadata": {},
   "source": [
    "Hint: you may find it helpful to work backwards. Start with your `pm.Gamma`, and note the required stochastic variables `alpha` and `beta`. Then, before that, you need to create those stochastic variables using `pm.Exponential` and the correct parameters."
   ]
  },
  {
   "cell_type": "markdown",
   "metadata": {},
   "source": [
    "__A:__"
   ]
  },
  {
   "cell_type": "code",
   "execution_count": 50,
   "metadata": {},
   "outputs": [
    {
     "name": "stderr",
     "output_type": "stream",
     "text": [
      "Auto-assigning NUTS sampler...\n",
      "Initializing NUTS using jitter+adapt_diag...\n",
      "Multiprocess sampling (2 chains in 2 jobs)\n",
      "NUTS: [rate_, alpha_]\n",
      "Sampling 2 chains: 100%|██████████| 21000/21000 [00:27<00:00, 771.07draws/s] \n"
     ]
    }
   ],
   "source": [
    "#model = pm.Model()\n",
    "#with model: \n",
    "# alpha\n",
    "#alpha = pm.Exponential('alpha', 10)\n",
    "# beta\n",
    "#beta = pm.Exponential('beta', 100)\n",
    "#g = pm.Gamma('g', alpha=alpha, beta=beta, observed=bw)\n",
    "#trace = pm.sample(2000)\n",
    "\n",
    "with pm.Model() as model:\n",
    "    alpha_ = pm.Exponential('alpha_', 1/alpha_est)\n",
    "    rate_ = pm.Exponential('rate_', 1/rate_est) #beta = 1/rate, so 1/rate = beta\n",
    "    no_ins_charge = pm.Gamma('no_ins_charge', alpha=alpha_, beta=rate_, observed=no_insurance)\n",
    "    trace = pm.sample(10000)"
   ]
  },
  {
   "cell_type": "code",
   "execution_count": 51,
   "metadata": {},
   "outputs": [
    {
     "data": {
      "text/plain": [
       "<MultiTrace: 2 chains, 10000 iterations, 4 variables>"
      ]
     },
     "execution_count": 51,
     "metadata": {},
     "output_type": "execute_result"
    }
   ],
   "source": [
    "trace"
   ]
  },
  {
   "cell_type": "markdown",
   "metadata": {},
   "source": [
    "If you get a warning about acceptance probability not matching the target, and that it's around 0.88 when it should be close to 0.8, don't worry. We encourage you to read up on this and see if you can adjust the parameters and/or arguments to pm.sample, but if your model runs without any additional warnings or errors then you should be doing great!"
   ]
  },
  {
   "cell_type": "markdown",
   "metadata": {},
   "source": [
    "__Q:__ Explore your posteriors for $\\alpha$ and $\\beta$ (from the trace).\n",
    "* Calculate the 95% credible interval for $\\alpha$ and $\\beta$.\n",
    "* Plot your posterior values of $\\alpha$ and $\\beta$ (both line plots and histograms). \n",
    "* Mark your CIs on the histograms.\n",
    "* Do they look okay? What would bad plots look like?"
   ]
  },
  {
   "cell_type": "markdown",
   "metadata": {},
   "source": [
    "__A:__"
   ]
  },
  {
   "cell_type": "code",
   "execution_count": 52,
   "metadata": {},
   "outputs": [
    {
     "name": "stdout",
     "output_type": "stream",
     "text": [
      "alpha mean is 2.2281645521144235\n",
      "95% confidence level of alpha_ is 1.9918406303563831 and 2.476295402835238\n"
     ]
    }
   ],
   "source": [
    "#95% confidence for alpha\n",
    "alpha_mean = np.mean(trace.alpha_)\n",
    "print(f'alpha mean is {alpha_mean}')\n",
    "alpha_lower, alpha_upper = np.percentile(trace.alpha_, [2.5, 97.5])\n",
    "print(f'95% confidence level of alpha_ is {alpha_lower} and {alpha_upper}')"
   ]
  },
  {
   "cell_type": "code",
   "execution_count": 71,
   "metadata": {},
   "outputs": [
    {
     "name": "stdout",
     "output_type": "stream",
     "text": [
      "beta mean is 3961.082276439568\n",
      "95% confidence level of beta_ is 4498.808225799806 and 3521.4904055243765\n"
     ]
    }
   ],
   "source": [
    "#95% confidence for beta\n",
    "beta_mean = 1/np.mean(trace.rate_)\n",
    "print(f'beta mean is {beta_mean}')\n",
    "beta_lower, beta_upper = 1/np.percentile(trace.rate_, [2.5, 97.5])\n",
    "print(f'95% confidence level of beta_ is {beta_lower} and {beta_upper}')"
   ]
  },
  {
   "cell_type": "code",
   "execution_count": 54,
   "metadata": {},
   "outputs": [
    {
     "data": {
      "image/png": "[encoded data removed]",
      "text/plain": [
       "<Figure size 432x288 with 1 Axes>"
      ]
     },
     "metadata": {
      "needs_background": "light"
     },
     "output_type": "display_data"
    }
   ],
   "source": [
    "#histograms\n",
    "_ = plt.suptitle('Histogram of alpha posterior values')\n",
    "_ = plt.legend\n",
    "_ = plt.hist(trace.alpha_, bins=50)\n",
    "_ = plt.ylabel('count')\n",
    "_ = plt.xlabel('alpha_')\n",
    "_ = plt.axvline(x=alpha_lower, color='k')\n",
    "_ = plt.axvline(x = alpha_upper, color='k')\n",
    "_ = plt.axvline(x = alpha_mean, color='orange')\n"
   ]
  },
  {
   "cell_type": "code",
   "execution_count": 73,
   "metadata": {},
   "outputs": [
    {
     "data": {
      "image/png": "[encoded data removed]",
      "text/plain": [
       "<Figure size 432x288 with 1 Axes>"
      ]
     },
     "metadata": {
      "needs_background": "light"
     },
     "output_type": "display_data"
    }
   ],
   "source": [
    "#histograms\n",
    "_ = plt.suptitle('Histogram of beta posterior values')\n",
    "_ = plt.legend\n",
    "_ = plt.hist(1/trace.rate_, bins=50)\n",
    "_ = plt.ylabel('count')\n",
    "_ = plt.xlabel('beta')\n",
    "_ = plt.axvline(x=beta_lower, color='k')\n",
    "_ = plt.axvline(x = beta_upper, color='k')\n",
    "_ = plt.axvline(x = beta_mean, color='orange')"
   ]
  },
  {
   "cell_type": "markdown",
   "metadata": {},
   "source": []
  },
  {
   "cell_type": "markdown",
   "metadata": {},
   "source": [
    "__Q:__ Play around with some of the built-in diagnostic plots for your model. We suggest at least checking out the traceplot for alpha and beta. How do they look?"
   ]
  },
  {
   "cell_type": "markdown",
   "metadata": {},
   "source": [
    "__A:__"
   ]
  },
  {
   "cell_type": "code",
   "execution_count": 56,
   "metadata": {},
   "outputs": [
    {
     "data": {
      "image/png": "[encoded data removed]",
      "text/plain": [
       "<Figure size 864x288 with 4 Axes>"
      ]
     },
     "metadata": {
      "needs_background": "light"
     },
     "output_type": "display_data"
    }
   ],
   "source": [
    "# Traceplot\n",
    "_ = pm.traceplot(trace)"
   ]
  },
  {
   "cell_type": "markdown",
   "metadata": {},
   "source": [
    "plots for both alpha and the rate look very similar - no great deviations seen"
   ]
  },
  {
   "cell_type": "markdown",
   "metadata": {},
   "source": [
    "__Q:__ Take your best shot at a new simulated sequence of medical charges using scipy.stat's gamma distribution. Don't forget the difference between functions that take $\\beta$ and functions that use $1/\\beta$ for the scale parameter. Simulate a data set the same size as the number of observations in the data and overlay the two histograms (simulated and observed)."
   ]
  },
  {
   "cell_type": "markdown",
   "metadata": {},
   "source": [
    "__A:__"
   ]
  },
  {
   "cell_type": "code",
   "execution_count": 74,
   "metadata": {},
   "outputs": [],
   "source": [
    "#using scipy stats\n",
    "seed(47)\n",
    "no_ins_pymc3val = gamma(alpha_mean, scale=beta_mean).rvs(n_no_ins)"
   ]
  },
  {
   "cell_type": "code",
   "execution_count": 75,
   "metadata": {},
   "outputs": [
    {
     "data": {
      "text/plain": [
       "array([ 3766.27877695, 17115.18171884,  3098.3911457 , 22194.52424669,\n",
       "        6010.89432693,  4716.42085166,  3483.3161764 ,  3448.08388894,\n",
       "       10146.76076993, 12728.08260926,  2356.76734517,  7791.5481031 ,\n",
       "       10413.25844618,  8461.9123513 , 10055.59246445,   750.99654661,\n",
       "        5254.92097868,  3020.4173749 , 10571.31074928,  7343.48038673,\n",
       "        1161.43910736,  9085.66903765,  8399.6499128 ,  3522.4960437 ,\n",
       "       24143.1250353 , 12949.46938782,  9101.66321563,  9691.6887502 ,\n",
       "        3460.08292723, 10014.94078403,  9274.06302318, 16774.91633802,\n",
       "         399.88658425,  7854.4876695 ,  9233.01807514, 13900.91273034,\n",
       "        7356.37800984, 14561.88515821,   712.17388903, 24630.09408702,\n",
       "       18305.95260673,  7099.18503862, 15718.03028556, 17932.69826769,\n",
       "        8857.13605169, 10910.62594171, 11070.57982538, 10760.02625784,\n",
       "        6875.69378275,  6017.60683436,   841.81242791, 14284.28655449,\n",
       "       12927.05379941, 11140.99351485, 21967.15832956, 13827.5450941 ,\n",
       "        7695.60368696, 12270.93227167,  4890.2599167 , 18475.56580658,\n",
       "        7289.08890625,  3820.02697766,  4961.48922063, 12850.83819972,\n",
       "        4940.90933999, 15081.55953803, 28506.90594322,  2922.70956513,\n",
       "       17524.80487517,  7399.71116546,  7159.60160867,  1568.58998662,\n",
       "        2818.27550505,  9804.33957085,  8372.29520897, 10507.14157125,\n",
       "       11285.67144175, 10532.92731568,  3210.1143976 ,  4162.39264887,\n",
       "       10522.39403639, 10863.61846061, 10608.45179111,  7390.53814753,\n",
       "        6547.06961943,  8752.70913203,  6581.85880049, 10529.20590502,\n",
       "        4805.31392564,  3367.97040536,  8984.38457849,  4262.75713678,\n",
       "       37850.22637015,  6569.04418323, 11072.12035158,   705.97347765,\n",
       "        5364.71321427,  5868.36706409,  1710.39343431, 10266.72829112,\n",
       "        6272.30475722, 21579.23922786,  8316.89635009,  5049.54269145,\n",
       "       16882.55687053,  7378.86349316,  8707.94632361,  2124.9172142 ,\n",
       "       12318.34312774,  6356.50326213,  5391.2672479 ,  5616.94343678,\n",
       "       12846.78928622,  5716.97031121,  5359.52340805,  1194.31142704,\n",
       "        6061.98685695, 14186.39795353,  3206.53317222,  6147.3071304 ,\n",
       "        1623.78016799, 15979.43810861, 22767.71368155,  9034.25558119,\n",
       "        9648.36596242,  4544.61407823, 12580.61445502,  3119.76845762,\n",
       "       22866.89584463,  2199.10826022,  5736.3460942 ,  6053.35281589,\n",
       "       25263.39890538,  7904.22443768, 11756.57803278, 10559.89168059,\n",
       "        1357.69689069,  9554.86354602, 17634.2301057 , 15745.61711057,\n",
       "       22105.25353403,  1591.33974627,  2429.17100786, 10545.52988077,\n",
       "        2808.12528935,  2864.86521341, 16408.25584199,  9440.29389689,\n",
       "        2456.71054755,  1494.77815312,  4996.569901  ,   524.38132715,\n",
       "        6548.29877055,  1711.98754552, 10515.61755969,  2317.29840469,\n",
       "        8012.45222789,  6406.73746911,  3146.70216016, 14763.60043504,\n",
       "        3505.06992968, 11957.49833685,  7325.08066224, 11173.34866221,\n",
       "        2138.18731278,  5216.70674848,  4449.26841345,  6708.8365696 ,\n",
       "        8563.3332486 , 15294.5892048 ,  9080.18494227, 12601.98954799,\n",
       "       12415.5780233 ,  7640.12951245, 11737.14353162, 11721.02470169,\n",
       "        9749.64892805, 11399.88439405, 16659.62742535,  2905.38152824,\n",
       "       10771.21825919,  7278.36650614,  7776.29430882, 14061.75491846,\n",
       "        7485.40191676,  2277.21537944,  8346.38313444,  6342.17435885,\n",
       "        5924.23513629, 24527.88370246, 12920.42860389,  8263.3424922 ,\n",
       "       17961.62024503, 10895.30593642, 13152.22880354,  7199.84141104,\n",
       "       11907.4111943 , 15578.83609077, 18466.73440534,  4765.45528162,\n",
       "        8869.46188584,  5109.82795255,  4911.7972572 ,  4454.97989945,\n",
       "        8689.86396123, 21330.43678332, 17702.80655318,  5276.60787439,\n",
       "       23049.84297629, 11902.16536802,  1902.85632213, 20088.0589022 ,\n",
       "       16362.29470324,  2896.05695704,  2269.6790154 , 23923.09888561,\n",
       "       13304.31681762,  7452.56197422,  2470.6513707 ,  2787.9919207 ,\n",
       "        2696.7026846 , 16768.08768041, 17818.54866555,  3804.93148273,\n",
       "        9447.48133491, 10881.55196851, 25289.5921113 , 14466.86069905,\n",
       "        3861.87992735,  4717.14921048,  7859.22989756,  6397.14456509,\n",
       "        6017.0882237 , 12289.47154002, 23077.86343114,  9843.43098033,\n",
       "        2948.04561861,  2611.9847891 ,  3815.30261144, 13126.57113809,\n",
       "        3347.68416613, 18669.89265208,  7371.24814694, 17291.49104316,\n",
       "       10053.01044459,  5565.74280184, 18660.64615068,  1562.39443605,\n",
       "       12450.23743621,  6234.65603202,  5601.03391604,  1406.52807838,\n",
       "        6255.11029401, 15166.06359899, 13877.22614958,  5424.42733546,\n",
       "       13712.12757159,  4058.71343864,  5372.31920721, 13236.54185819,\n",
       "       10428.72136041, 12400.58858332,  3898.95828373, 10533.11471532,\n",
       "        3235.01459865, 15626.62074259,  4115.15947215, 12091.03317459,\n",
       "        3348.00855333,  5377.68866928,  5456.81278204, 17853.32445456,\n",
       "       14174.59564716,  2213.82936015,  9579.4193774 , 10097.34305333,\n",
       "        4286.16915505, 29081.01074678,  5754.63779448,  1792.11987236,\n",
       "        2267.87789815, 26052.18215186, 10485.39925416, 14247.29472002,\n",
       "        4111.11614217,  3977.14458171,  4693.149455  ,  1575.27948201,\n",
       "       11738.81673413,  9719.09456759,  7965.84302783,  5077.82463732,\n",
       "        5535.29025473,  1034.29849952,  6642.43728118,  4288.17844146,\n",
       "        5623.22429564,  8842.25789399, 13034.96070365,  5938.01704953,\n",
       "        1193.56638142,  9470.9846462 , 11161.1275167 ,  5466.09635287,\n",
       "        1034.15278595, 10732.60653882,  7315.78799203,  1628.04303331,\n",
       "        4019.01850361, 12759.3595592 ,  5787.23803088, 11473.86101526,\n",
       "       10772.21052882,  6322.79839172, 12100.39955302,  6959.09904985,\n",
       "        9097.53473935,  6135.13197135, 10952.14681784,  7853.79797271,\n",
       "        7996.15103486, 23140.30390519, 14799.71139434, 35834.22385752,\n",
       "        2900.90675292, 15796.81038286, 10069.21963678,  4779.2042978 ,\n",
       "       10724.88339783,  7236.18680848,  9087.68998678, 10914.82620047,\n",
       "        2910.5982266 ,  3191.14489894, 22515.28990751,  4314.96022768,\n",
       "        6135.0751521 , 11259.43237971,  4757.79397576,  5215.78455164,\n",
       "       10083.67735677,  4804.56505525,  3413.54844815,  2370.46229321,\n",
       "        7749.99079682,  8947.48469052,  1713.79889159,  5235.17509673,\n",
       "        2306.64551345,  6328.82992229,  5683.19622059,  6194.877301  ,\n",
       "        4961.9850621 , 12527.1639152 , 24628.3114114 ,  3624.25737439,\n",
       "        2335.80002805,  2898.77514834,  1669.02122936, 18858.16440527,\n",
       "       12740.22628664, 10184.56620541, 10153.76090553, 12229.87882091,\n",
       "        4938.42036013,  3667.66071056,  4696.25856327,  3735.75015762,\n",
       "        2691.77151775,  5646.67065953,  7803.10050768, 10913.01089523,\n",
       "        4945.1034997 , 12392.19359738, 16721.40610403,  9560.54128038,\n",
       "        5171.34153986,  8125.80103069,  4118.65093112,  9729.49914005,\n",
       "        6696.2597421 , 12376.78296701, 12773.03719554,   554.7007609 ,\n",
       "        9101.1414228 , 10200.32168386,  4648.24026684, 10569.01006191,\n",
       "       17792.01470548,  3909.85194396, 15464.79895924, 10561.1087837 ,\n",
       "        7550.99883257, 10127.75994086,  6656.79383391,  1717.57994272,\n",
       "        2402.0328918 ,  9863.96639439,  4279.31489724,  4701.4718443 ,\n",
       "       14315.78606915,  9689.62166625,  6231.72717266,  4767.73529878,\n",
       "        3140.7503747 ,  4151.53009288, 12268.68221338,  7217.28854542,\n",
       "        2402.21942307,  4861.49602388, 16488.52982437, 11432.62750649,\n",
       "        8276.75085753,  3966.02670425,  2843.47645056,  9858.20731209,\n",
       "        7986.41214906, 14183.73218058,  4942.18309655,  2609.58368092,\n",
       "        4471.8009008 ,  5582.12304427,  3197.96832303,  7522.04512493,\n",
       "        4648.33820116, 10587.83227223, 13682.91916707,  4130.2257884 ,\n",
       "        3401.7609278 , 10219.21989718,  9127.64810737,  3921.65117918,\n",
       "       10842.65300859,  2787.73422909, 15617.69101649, 14941.48474933,\n",
       "       15739.06588938,  9999.99007396,  8823.9598281 ,  8128.97933663,\n",
       "       16495.64123838,  6732.52084344,  5823.98732983,  5997.27077226,\n",
       "       12923.66336823,  3281.70645728,  7361.94452227, 28000.90269779,\n",
       "        4330.83789546, 10628.12892872,   890.70512197,  2908.55007173,\n",
       "        8575.75604896,  8727.21069463,  4028.13198142,  4612.62668012,\n",
       "        4681.07290536,  4873.2614019 ,  6158.07612502,  6944.35668137,\n",
       "        7060.83986993,  4001.13246263, 10841.30484014,  6702.89359627,\n",
       "       26269.183372  ,  9885.65092314, 13983.97325868, 11958.44026743,\n",
       "       13116.5985903 ,  6506.43149713,  7108.02189529, 10909.36903786,\n",
       "        3684.37425956,  1296.54611443,  5456.03621293, 16224.40247026,\n",
       "       15322.06371853,  3635.67870634,  6816.20757508, 11288.18071467,\n",
       "        3270.870215  ,  3765.88480902,  7472.98091915,  3786.00580124,\n",
       "        7804.4920735 , 10244.75878119,  5241.20385449,  4434.29762079,\n",
       "        3248.9927696 ,  8582.48250148, 13378.0441888 ,  7933.70222129,\n",
       "       19381.76445039,  6291.54803734,  7566.17148378, 19636.18203266,\n",
       "       11907.14414272,  6174.28349329,  3925.85679463,  5563.94392382,\n",
       "       13821.61417831,  2082.22791039,  2736.50068095,  8160.84534045,\n",
       "        7337.89996237,   902.36052977,  6339.85580702,  5806.03662796,\n",
       "        9366.26589342, 11221.23921641, 10250.72171231,  7335.578079  ,\n",
       "        7046.84826979,  2466.09505953,  1425.5743924 , 11733.92043948,\n",
       "        5214.08704136,  6161.52368378,  2510.4832212 , 12230.43857549,\n",
       "        5764.48504134,   945.26657314,  5876.99520405, 19375.07266161,\n",
       "        4101.3692934 , 23766.30732143, 18532.61084722,  4695.96110009,\n",
       "        7490.96399132,  4210.18098113,  6644.9760092 ,  9478.36682383,\n",
       "        5205.56437029, 16773.34998955, 10500.67282569,  6152.32517359,\n",
       "        7513.19666977,  8718.22100143, 10944.54300454,  9310.1051747 ,\n",
       "        6991.05181088, 19443.75939517,   781.40871689,  7031.0192481 ,\n",
       "        8250.34835041,  3347.68797006, 10368.68216672,  4689.71309196,\n",
       "        3092.72637052,  7432.81435225,  4476.17025905, 13440.99527887,\n",
       "       15071.53740813,  5723.36879769,  3927.94676198])"
      ]
     },
     "execution_count": 75,
     "metadata": {},
     "output_type": "execute_result"
    }
   ],
   "source": [
    "no_ins_pymc3val"
   ]
  },
  {
   "cell_type": "code",
   "execution_count": 76,
   "metadata": {
    "scrolled": true
   },
   "outputs": [
    {
     "data": {
      "image/png": "[encoded data removed]",
      "text/plain": [
       "<Figure size 432x288 with 1 Axes>"
      ]
     },
     "metadata": {
      "needs_background": "light"
     },
     "output_type": "display_data"
    }
   ],
   "source": [
    "_ = plt.hist(no_ins_pymc3val, bins=30, alpha=0.5, label='simulated')\n",
    "_ = plt.hist(no_insurance, bins=30, alpha=0.5, label='observed')\n",
    "_ = plt.xlabel('Charge amount')\n",
    "_ = plt.ylabel('Frequency')\n",
    "_ = plt.legend()"
   ]
  },
  {
   "cell_type": "markdown",
   "metadata": {},
   "source": [
    "Actually looks quite similar to the first simulation."
   ]
  },
  {
   "cell_type": "markdown",
   "metadata": {},
   "source": [
    "## Summary"
   ]
  },
  {
   "cell_type": "markdown",
   "metadata": {},
   "source": [
    "In this exercise, we have postulated a distribution to describe the individual charge amounts for non-insured cases. This distribution has two required parameters, which we do not know, but we used PyMC3 to perform Bayesian inference to find our level of \"belief\" in a range of values for them. We then used the average parameter values to create one simulated data set of the same size as the original, but the distribution of our posteriors for these parameters will allow us to perform simulations of any sample size we desire and for a range of scenarios of different $\\alpha$ and $\\beta$. This could be a powerful tool to model different financial conditions for the hospital. \n",
    "\n",
    "Well done making it through this tricky subject. Starting think Bayesian _and_ starting to get to grips with something like PyMC3 is no easy task. As a data scientist, the most important thing is to be aware that this statistical approach exists, though you may not actually use this approach as much as you use the other approaches you've learned about. Still, we encourage you to think of ways that this approach could apply to the work that you do in this course and throughout your career.  "
   ]
  }
 ],
 "metadata": {
  "kernelspec": {
   "display_name": "Python 3",
   "language": "python",
   "name": "python3"
  },
  "language_info": {
   "codemirror_mode": {
    "name": "ipython",
    "version": 3
   },
   "file_extension": ".py",
   "mimetype": "text/x-python",
   "name": "python",
   "nbconvert_exporter": "python",
   "pygments_lexer": "ipython3",
   "version": "3.7.3"
  }
 },
 "nbformat": 4,
 "nbformat_minor": 2
}

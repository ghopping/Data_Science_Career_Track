{
 "cells": [
  {
   "cell_type": "markdown",
   "metadata": {},
   "source": [
    "This exercise will require you to pull some data from the Qunadl API. Qaundl is currently the most widely used aggregator of financial market data."
   ]
  },
  {
   "cell_type": "markdown",
   "metadata": {},
   "source": [
    "After you register, you will be provided with a unique API key, that you should store:"
   ]
  },
  {
   "cell_type": "code",
   "execution_count": 434,
   "metadata": {
    "collapsed": true
   },
   "outputs": [],
   "source": [
    "# Store the API key as a string - according to PEP8, constants are always named in all upper case\n",
    "API_KEY = ''"
   ]
  },
  {
   "cell_type": "code",
   "execution_count": 435,
   "metadata": {
    "collapsed": true
   },
   "outputs": [],
   "source": [
    "# First, import the relevant modules\n",
    "import requests, json, collections\n"
   ]
  },
  {
   "cell_type": "code",
   "execution_count": 436,
   "metadata": {
    "collapsed": true
   },
   "outputs": [],
   "source": [
    "# Now, call the Quandl API and pull out a small sample of the data (only one day) to get a glimpse\n",
    "# into the JSON structure that will be returned\n",
    "r = requests.get('https://www.quandl.com/api/v3/datasets/FSE/AFX_X.json?api_key=' + API_KEY)"
   ]
  },
  {
   "cell_type": "code",
   "execution_count": 437,
   "metadata": {},
   "outputs": [
    {
     "name": "stdout",
     "output_type": "stream",
     "text": [
      "['Date', 'Open', 'High', 'Low', 'Close', 'Change', 'Traded Volume', 'Turnover', 'Last Price of the Day', 'Daily Traded Units', 'Daily Turnover']\n"
     ]
    }
   ],
   "source": [
    "# Inspect the JSON structure of the object you created, and take note of how nested it is,\n",
    "# as well as the overall structure\n",
    "#print(r.json())\n",
    "column_names = r.json()['dataset']['column_names']\n",
    "print(column_names)"
   ]
  },
  {
   "cell_type": "markdown",
   "metadata": {},
   "source": [
    "These are your tasks for this mini project:\n",
    "\n",
    "1. Collect data from the Franfurt Stock Exchange, for the ticker AFX_X, for the whole year 2017 (keep in mind that the date format is YYYY-MM-DD).\n",
    "2. Convert the returned JSON object into a Python dictionary.\n",
    "3. Calculate what the highest and lowest opening prices were for the stock in this period.\n",
    "4. What was the largest change in any one day (based on High and Low price)?\n",
    "5. What was the largest change between any two days (based on Closing Price)?\n",
    "6. What was the average daily trading volume during this year?\n",
    "7. (Optional) What was the median trading volume during this year. (Note: you may need to implement your own function for calculating the median.)"
   ]
  },
  {
   "cell_type": "markdown",
   "metadata": {},
   "source": [
    "### Q1. Collect data from the Franfurt Stock Exchange, for the ticker AFX_X, for the whole year 2017 (keep in mind that the date format is YYYY-MM-DD)."
   ]
  },
  {
   "cell_type": "code",
   "execution_count": 438,
   "metadata": {},
   "outputs": [
    {
     "data": {
      "text/plain": [
       "list"
      ]
     },
     "execution_count": 438,
     "metadata": {},
     "output_type": "execute_result"
    }
   ],
   "source": [
    "#The entries in 'data' are a list of list, with each list being a day. Need to slice out just the year and match on that to \n",
    "#return each entire list.\n",
    "year_2017 = [x for x in r.json()['dataset']['data'] if x[0][:4] == '2017']\n",
    "#print(year_2017)\n",
    "type(year_2017)"
   ]
  },
  {
   "cell_type": "markdown",
   "metadata": {},
   "source": [
    "### Q2. Convert the returned JSON object into a Python dictionary."
   ]
  },
  {
   "cell_type": "code",
   "execution_count": 439,
   "metadata": {
    "scrolled": true
   },
   "outputs": [
    {
     "name": "stdout",
     "output_type": "stream",
     "text": [
      "<class 'list'>\n"
     ]
    }
   ],
   "source": [
    "#First convert list of lists to list of dicts, and apply column names as well.\n",
    "list_of_dicts = [dict(zip(column_names, values)) for values in year_2017]\n",
    "print(type(list_of_dicts))\n",
    "#print(list_of_dicts)"
   ]
  },
  {
   "cell_type": "code",
   "execution_count": 440,
   "metadata": {},
   "outputs": [
    {
     "name": "stdout",
     "output_type": "stream",
     "text": [
      "<class 'dict'>\n"
     ]
    }
   ],
   "source": [
    "#now take value of first entry and use as key for a nested dictionary, with the remaining values being the inner dictionary.\n",
    "#pop out the first entry and use as key\n",
    "AFX_2017 = {}\n",
    "for item in list_of_dicts:\n",
    "   name = item.pop('Date')\n",
    "   AFX_2017[name] = item\n",
    "print(type(AFX_2017))\n",
    "#print(AFX_2017)"
   ]
  },
  {
   "cell_type": "markdown",
   "metadata": {},
   "source": [
    "### Q3. Calculate what the highest and lowest opening prices were for the stock in this period."
   ]
  },
  {
   "cell_type": "code",
   "execution_count": 441,
   "metadata": {},
   "outputs": [
    {
     "name": "stdout",
     "output_type": "stream",
     "text": [
      "Maximum open value is $53.11\n",
      "Minimum open value is $34.00\n"
     ]
    }
   ],
   "source": [
    "open_data = [] # initialze the list\n",
    "for key in AFX_2017:\n",
    "    x = AFX_2017[key]['Open']\n",
    "    if x is not None: # ignore None types\n",
    "        open_data.append(x) #add values to the list\n",
    "   \n",
    "max_val = max(open_data)\n",
    "min_val = min(open_data)\n",
    "print(f\"Maximum open value is ${max_val}\")\n",
    "print(\"Minimum open value is $%.2f\" % min_val)"
   ]
  },
  {
   "cell_type": "markdown",
   "metadata": {},
   "source": [
    "### Q4. What was the largest change in any one day (based on High and Low price)?"
   ]
  },
  {
   "cell_type": "code",
   "execution_count": 442,
   "metadata": {},
   "outputs": [
    {
     "name": "stdout",
     "output_type": "stream",
     "text": [
      "Largest change in any one day was $2.81\n"
     ]
    }
   ],
   "source": [
    "high_low = []\n",
    "for key in AFX_2017:\n",
    "    high = AFX_2017[key]['High']\n",
    "    low = AFX_2017[key]['Low']\n",
    "    if [high, low]is not None:\n",
    "        high_low.append(abs(high - low))\n",
    "max_high_low = max(high_low)\n",
    "print(\"Largest change in any one day was $%.2f\" % max_high_low)"
   ]
  },
  {
   "cell_type": "markdown",
   "metadata": {},
   "source": [
    "### Q5. What was the largest change between any two days (based on Closing Price)?"
   ]
  },
  {
   "cell_type": "code",
   "execution_count": 443,
   "metadata": {},
   "outputs": [
    {
     "name": "stdout",
     "output_type": "stream",
     "text": [
      "Largest change between any two days, based on Closing Price was $2.56\n"
     ]
    }
   ],
   "source": [
    "#Assuming this is largest change between two consecutive days...\n",
    "closing_price = [] #collect the data\n",
    "for key in AFX_2017:\n",
    "    close = AFX_2017[key]['Close']\n",
    "    closing_price.append(close)\n",
    "#fiunction to find difference between two values\n",
    "def diff(val1, val2):\n",
    "    \"\"\"find the absolute difference between two numbers\"\"\"\n",
    "    val_diff = abs(val2 - val1)\n",
    "    return(val_diff)\n",
    "#create list to put pairwise differences in\n",
    "max_closing = []\n",
    "x = 0\n",
    "while x < len(closing_price):\n",
    "    if x <= 253: #this is messy, I'm sure there is a more elegent way to do this - want to limit value of y to avoid out of range error.\n",
    "        y = x + 1\n",
    "    max_closing.append(diff(closing_price[x], closing_price[y])) # apply function to pairwise values\n",
    "    x += 1\n",
    "max_value = max(max_closing)     \n",
    "print(\"Largest change between any two days, based on Closing Price was $%.2f\" % max_value)"
   ]
  },
  {
   "cell_type": "markdown",
   "metadata": {},
   "source": [
    "### Q6. What was the average daily trading volume during this year?"
   ]
  },
  {
   "cell_type": "code",
   "execution_count": 444,
   "metadata": {},
   "outputs": [
    {
     "name": "stdout",
     "output_type": "stream",
     "text": [
      "Average daily trading volume during 2017 was $89124.34\n"
     ]
    }
   ],
   "source": [
    "traded_volume = []\n",
    "for key in AFX_2017:\n",
    "    vol = AFX_2017[key]['Traded Volume']\n",
    "    if vol is not None:\n",
    "        traded_volume.append(vol)\n",
    "ave_vol = sum(traded_volume) / len(traded_volume)\n",
    "print(\"Average daily trading volume during 2017 was $%.2f\" % ave_vol)"
   ]
  },
  {
   "cell_type": "markdown",
   "metadata": {},
   "source": [
    "### Q7. (Optional) What was the median trading volume during this year. (Note: you may need to implement your own function for calculating the median.)"
   ]
  },
  {
   "cell_type": "code",
   "execution_count": 445,
   "metadata": {},
   "outputs": [
    {
     "name": "stdout",
     "output_type": "stream",
     "text": [
      "The median trading volume during 2017 was $76286\n"
     ]
    },
    {
     "data": {
      "text/plain": [
       "76286.0"
      ]
     },
     "execution_count": 445,
     "metadata": {},
     "output_type": "execute_result"
    }
   ],
   "source": [
    "#Median is the middle value for an odd number of items, or the mean of the middle two for an even number.\n",
    "median = int((len(traded_volume) - 1) / 2) #for a dataset containing uneven number of values, find middle value\n",
    "sorted_traded_volume = sorted(traded_volume) #for median, list must be sorted!\n",
    "median_traded_volume = sorted_traded_volume[median]\n",
    "print(\"The median trading volume during 2017 was $%.0f\" % median_traded_volume)\n",
    "\n",
    "#test against stats package to ensure correct result\n",
    "from statistics import median\n",
    "median(traded_volume)"
   ]
  }
 ],
 "metadata": {
  "kernelspec": {
   "display_name": "Python 3",
   "language": "python",
   "name": "python3"
  },
  "language_info": {
   "codemirror_mode": {
    "name": "ipython",
    "version": 3
   },
   "file_extension": ".py",
   "mimetype": "text/x-python",
   "name": "python",
   "nbconvert_exporter": "python",
   "pygments_lexer": "ipython3",
   "version": "3.7.1"
  }
 },
 "nbformat": 4,
 "nbformat_minor": 2
}
